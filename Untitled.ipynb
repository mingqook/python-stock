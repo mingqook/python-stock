{
 "cells": [
  {
   "cell_type": "code",
   "execution_count": 2,
   "id": "732fbb31-8a2d-4fcd-856b-deee63cc8847",
   "metadata": {},
   "outputs": [
    {
     "data": {
      "text/plain": [
       "True"
      ]
     },
     "execution_count": 2,
     "metadata": {},
     "output_type": "execute_result"
    }
   ],
   "source": [
    "\"1234\".isdigit()"
   ]
  },
  {
   "cell_type": "code",
   "execution_count": 3,
   "id": "bc27aa4d-24b7-4399-ada2-dd794452681d",
   "metadata": {},
   "outputs": [],
   "source": [
    "import pandas as pd"
   ]
  },
  {
   "cell_type": "code",
   "execution_count": 10,
   "id": "53316818-1e96-432f-9d1a-e138a9b0f63a",
   "metadata": {},
   "outputs": [],
   "source": [
    "code_df = pd.read_html('http://kind.krx.co.kr/corpgeneral/corpList.do?method=download', header=0)[0]"
   ]
  },
  {
   "cell_type": "code",
   "execution_count": 11,
   "id": "d58ad729-3a9c-41be-8232-2470e9f74d7c",
   "metadata": {},
   "outputs": [
    {
     "data": {
      "text/plain": [
       "2479"
      ]
     },
     "execution_count": 11,
     "metadata": {},
     "output_type": "execute_result"
    }
   ],
   "source": [
    "len(code_df)"
   ]
  },
  {
   "cell_type": "code",
   "execution_count": 14,
   "id": "60a5dc60-7660-465e-8757-62c26a5547dd",
   "metadata": {},
   "outputs": [
    {
     "data": {
      "text/plain": [
       "True"
      ]
     },
     "execution_count": 14,
     "metadata": {},
     "output_type": "execute_result"
    }
   ],
   "source": [
    "code_df['회사명'].isin(['삼성전자']).any()"
   ]
  },
  {
   "cell_type": "code",
   "execution_count": 16,
   "id": "b5a5ff0f-c921-4316-be25-4a7fca282979",
   "metadata": {},
   "outputs": [
    {
     "data": {
      "text/html": [
       "<div>\n",
       "<style scoped>\n",
       "    .dataframe tbody tr th:only-of-type {\n",
       "        vertical-align: middle;\n",
       "    }\n",
       "\n",
       "    .dataframe tbody tr th {\n",
       "        vertical-align: top;\n",
       "    }\n",
       "\n",
       "    .dataframe thead th {\n",
       "        text-align: right;\n",
       "    }\n",
       "</style>\n",
       "<table border=\"1\" class=\"dataframe\">\n",
       "  <thead>\n",
       "    <tr style=\"text-align: right;\">\n",
       "      <th></th>\n",
       "      <th>회사명</th>\n",
       "      <th>종목코드</th>\n",
       "      <th>업종</th>\n",
       "      <th>주요제품</th>\n",
       "      <th>상장일</th>\n",
       "      <th>결산월</th>\n",
       "      <th>대표자명</th>\n",
       "      <th>홈페이지</th>\n",
       "      <th>지역</th>\n",
       "    </tr>\n",
       "  </thead>\n",
       "  <tbody>\n",
       "    <tr>\n",
       "      <th>961</th>\n",
       "      <td>삼성전자</td>\n",
       "      <td>5930</td>\n",
       "      <td>통신 및 방송 장비 제조업</td>\n",
       "      <td>IMT2000 서비스용 동기식 기지국,교환국장비,데이터단말기,동영상휴대폰,핵심칩,반...</td>\n",
       "      <td>1975-06-11</td>\n",
       "      <td>12월</td>\n",
       "      <td>김기남, 김현석, 고동진</td>\n",
       "      <td>http://www.sec.co.kr</td>\n",
       "      <td>경기도</td>\n",
       "    </tr>\n",
       "  </tbody>\n",
       "</table>\n",
       "</div>"
      ],
      "text/plain": [
       "      회사명  종목코드              업종  \\\n",
       "961  삼성전자  5930  통신 및 방송 장비 제조업   \n",
       "\n",
       "                                                  주요제품         상장일  결산월  \\\n",
       "961  IMT2000 서비스용 동기식 기지국,교환국장비,데이터단말기,동영상휴대폰,핵심칩,반...  1975-06-11  12월   \n",
       "\n",
       "              대표자명                  홈페이지   지역  \n",
       "961  김기남, 김현석, 고동진  http://www.sec.co.kr  경기도  "
      ]
     },
     "execution_count": 16,
     "metadata": {},
     "output_type": "execute_result"
    }
   ],
   "source": [
    "code_df[code_df['회사명'] == '삼성전자']"
   ]
  },
  {
   "cell_type": "code",
   "execution_count": 29,
   "id": "7268d6f1-9240-4d05-8e1d-8ba5b1f45ada",
   "metadata": {},
   "outputs": [
    {
     "data": {
      "text/plain": [
       "'1234577'"
      ]
     },
     "execution_count": 29,
     "metadata": {},
     "output_type": "execute_result"
    }
   ],
   "source": [
    "a = '1234577'\n",
    "'{0:0>6}'.format(a)"
   ]
  },
  {
   "cell_type": "code",
   "execution_count": 1,
   "id": "89231e2d-26af-449e-ae55-5823be95d792",
   "metadata": {},
   "outputs": [],
   "source": [
    "import pandas_datareader as pdr"
   ]
  },
  {
   "cell_type": "code",
   "execution_count": 7,
   "id": "2dd9903d-87a1-4d1e-b3bc-0ddbdbff6094",
   "metadata": {},
   "outputs": [],
   "source": [
    "df = pdr.DataReader('003540', 'naver')"
   ]
  },
  {
   "cell_type": "code",
   "execution_count": 3,
   "id": "3a25b575-61cd-458f-abd0-2b2f11b3398c",
   "metadata": {},
   "outputs": [],
   "source": [
    "import plotly.graph_objects as go\n"
   ]
  },
  {
   "cell_type": "code",
   "execution_count": 35,
   "id": "c5e5dc79-1f0f-4cd7-9d72-09c799ed410f",
   "metadata": {},
   "outputs": [
    {
     "data": {
      "text/plain": [
       "Index(['Open', 'High', 'Low', 'Close', 'Volume'], dtype='object')"
      ]
     },
     "execution_count": 35,
     "metadata": {},
     "output_type": "execute_result"
    }
   ],
   "source": [
    "df.columns"
   ]
  },
  {
   "cell_type": "code",
   "execution_count": 8,
   "id": "ff293a3d-1067-4479-b150-22d4ee18799a",
   "metadata": {},
   "outputs": [],
   "source": [
    "fig = go.Figure(data = [go.Candlestick(x = df.index, open = df['Open'], high = df['High'], low = df['Low'], close = df['Close'])])"
   ]
  },
  {
   "cell_type": "code",
   "execution_count": 11,
   "id": "916103ec-b88c-40d2-8988-24ef345f14c0",
   "metadata": {},
   "outputs": [],
   "source": [
    "fig.write_html('test.html')"
   ]
  },
  {
   "cell_type": "code",
   "execution_count": null,
   "id": "b5785cb8-0fbe-4b49-9744-684bd5c243bb",
   "metadata": {},
   "outputs": [],
   "source": []
  }
 ],
 "metadata": {
  "kernelspec": {
   "display_name": "Python 3 (ipykernel)",
   "language": "python",
   "name": "python3"
  },
  "language_info": {
   "codemirror_mode": {
    "name": "ipython",
    "version": 3
   },
   "file_extension": ".py",
   "mimetype": "text/x-python",
   "name": "python",
   "nbconvert_exporter": "python",
   "pygments_lexer": "ipython3",
   "version": "3.8.8"
  }
 },
 "nbformat": 4,
 "nbformat_minor": 5
}
