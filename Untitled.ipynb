{
 "cells": [
  {
   "cell_type": "code",
   "execution_count": 1,
   "id": "09499477-1572-4fcf-aee2-7be95aa53992",
   "metadata": {},
   "outputs": [],
   "source": [
    "import pandas_datareader as pdr"
   ]
  },
  {
   "cell_type": "code",
   "execution_count": 2,
   "id": "757b9614-e441-4ee2-8a5e-8a237699c1cd",
   "metadata": {},
   "outputs": [
    {
     "data": {
      "text/html": [
       "<div>\n",
       "<style scoped>\n",
       "    .dataframe tbody tr th:only-of-type {\n",
       "        vertical-align: middle;\n",
       "    }\n",
       "\n",
       "    .dataframe tbody tr th {\n",
       "        vertical-align: top;\n",
       "    }\n",
       "\n",
       "    .dataframe thead th {\n",
       "        text-align: right;\n",
       "    }\n",
       "</style>\n",
       "<table border=\"1\" class=\"dataframe\">\n",
       "  <thead>\n",
       "    <tr style=\"text-align: right;\">\n",
       "      <th></th>\n",
       "      <th>Open</th>\n",
       "      <th>High</th>\n",
       "      <th>Low</th>\n",
       "      <th>Close</th>\n",
       "      <th>Volume</th>\n",
       "    </tr>\n",
       "    <tr>\n",
       "      <th>Date</th>\n",
       "      <th></th>\n",
       "      <th></th>\n",
       "      <th></th>\n",
       "      <th></th>\n",
       "      <th></th>\n",
       "    </tr>\n",
       "  </thead>\n",
       "  <tbody>\n",
       "    <tr>\n",
       "      <th>2016-11-21</th>\n",
       "      <td>31300</td>\n",
       "      <td>32119</td>\n",
       "      <td>31300</td>\n",
       "      <td>31860</td>\n",
       "      <td>163604</td>\n",
       "    </tr>\n",
       "    <tr>\n",
       "      <th>2016-11-22</th>\n",
       "      <td>32140</td>\n",
       "      <td>32900</td>\n",
       "      <td>32000</td>\n",
       "      <td>32800</td>\n",
       "      <td>195022</td>\n",
       "    </tr>\n",
       "    <tr>\n",
       "      <th>2016-11-23</th>\n",
       "      <td>33220</td>\n",
       "      <td>33220</td>\n",
       "      <td>32520</td>\n",
       "      <td>32980</td>\n",
       "      <td>253372</td>\n",
       "    </tr>\n",
       "    <tr>\n",
       "      <th>2016-11-24</th>\n",
       "      <td>32980</td>\n",
       "      <td>33040</td>\n",
       "      <td>32660</td>\n",
       "      <td>33000</td>\n",
       "      <td>155143</td>\n",
       "    </tr>\n",
       "    <tr>\n",
       "      <th>2016-11-25</th>\n",
       "      <td>32820</td>\n",
       "      <td>33040</td>\n",
       "      <td>32660</td>\n",
       "      <td>33000</td>\n",
       "      <td>125538</td>\n",
       "    </tr>\n",
       "    <tr>\n",
       "      <th>...</th>\n",
       "      <td>...</td>\n",
       "      <td>...</td>\n",
       "      <td>...</td>\n",
       "      <td>...</td>\n",
       "      <td>...</td>\n",
       "    </tr>\n",
       "    <tr>\n",
       "      <th>2021-11-15</th>\n",
       "      <td>71700</td>\n",
       "      <td>71900</td>\n",
       "      <td>70900</td>\n",
       "      <td>71400</td>\n",
       "      <td>12420710</td>\n",
       "    </tr>\n",
       "    <tr>\n",
       "      <th>2021-11-16</th>\n",
       "      <td>71500</td>\n",
       "      <td>72000</td>\n",
       "      <td>71300</td>\n",
       "      <td>71300</td>\n",
       "      <td>10919239</td>\n",
       "    </tr>\n",
       "    <tr>\n",
       "      <th>2021-11-17</th>\n",
       "      <td>71300</td>\n",
       "      <td>71600</td>\n",
       "      <td>70600</td>\n",
       "      <td>70700</td>\n",
       "      <td>11027606</td>\n",
       "    </tr>\n",
       "    <tr>\n",
       "      <th>2021-11-18</th>\n",
       "      <td>70700</td>\n",
       "      <td>71000</td>\n",
       "      <td>70200</td>\n",
       "      <td>70200</td>\n",
       "      <td>10144957</td>\n",
       "    </tr>\n",
       "    <tr>\n",
       "      <th>2021-11-19</th>\n",
       "      <td>70400</td>\n",
       "      <td>71400</td>\n",
       "      <td>70100</td>\n",
       "      <td>71200</td>\n",
       "      <td>11896747</td>\n",
       "    </tr>\n",
       "  </tbody>\n",
       "</table>\n",
       "<p>1229 rows × 5 columns</p>\n",
       "</div>"
      ],
      "text/plain": [
       "             Open   High    Low  Close    Volume\n",
       "Date                                            \n",
       "2016-11-21  31300  32119  31300  31860    163604\n",
       "2016-11-22  32140  32900  32000  32800    195022\n",
       "2016-11-23  33220  33220  32520  32980    253372\n",
       "2016-11-24  32980  33040  32660  33000    155143\n",
       "2016-11-25  32820  33040  32660  33000    125538\n",
       "...           ...    ...    ...    ...       ...\n",
       "2021-11-15  71700  71900  70900  71400  12420710\n",
       "2021-11-16  71500  72000  71300  71300  10919239\n",
       "2021-11-17  71300  71600  70600  70700  11027606\n",
       "2021-11-18  70700  71000  70200  70200  10144957\n",
       "2021-11-19  70400  71400  70100  71200  11896747\n",
       "\n",
       "[1229 rows x 5 columns]"
      ]
     },
     "execution_count": 2,
     "metadata": {},
     "output_type": "execute_result"
    }
   ],
   "source": [
    "pdr.DataReader('005930', 'naver')"
   ]
  },
  {
   "cell_type": "code",
   "execution_count": 3,
   "id": "b8ee792f-3224-4a0a-86b7-dd48837c587d",
   "metadata": {},
   "outputs": [],
   "source": [
    "def load_config():\n",
    "\n",
    "    with open(\"config.json\", \"r\") as f:\n",
    "\n",
    "        return json.load(f)"
   ]
  },
  {
   "cell_type": "code",
   "execution_count": 6,
   "id": "f1a37816-808b-47e6-856a-2fa4a376e395",
   "metadata": {},
   "outputs": [
    {
     "data": {
      "text/plain": [
       "dict"
      ]
     },
     "execution_count": 6,
     "metadata": {},
     "output_type": "execute_result"
    }
   ],
   "source": [
    "import json\n",
    "type(load_config())"
   ]
  },
  {
   "cell_type": "code",
   "execution_count": null,
   "id": "14000f47-b987-44b1-a330-4a02fdc8de93",
   "metadata": {},
   "outputs": [],
   "source": []
  }
 ],
 "metadata": {
  "kernelspec": {
   "display_name": "Python 3 (ipykernel)",
   "language": "python",
   "name": "python3"
  },
  "language_info": {
   "codemirror_mode": {
    "name": "ipython",
    "version": 3
   },
   "file_extension": ".py",
   "mimetype": "text/x-python",
   "name": "python",
   "nbconvert_exporter": "python",
   "pygments_lexer": "ipython3",
   "version": "3.8.8"
  }
 },
 "nbformat": 4,
 "nbformat_minor": 5
}
